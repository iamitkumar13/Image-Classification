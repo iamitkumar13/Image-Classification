{
  "cells": [
    {
      "cell_type": "markdown",
      "metadata": {
        "id": "Riuhi2Wu0x68"
      },
      "source": [
        "# Dataset Acquisition"
      ]
    },
    {
      "cell_type": "code",
      "execution_count": null,
      "metadata": {
        "id": "K65Cy34c0sZD"
      },
      "outputs": [],
      "source": [
        "## Import required packages"
      ]
    },
    {
      "cell_type": "code",
      "execution_count": null,
      "metadata": {
        "id": "URlj2YUwXuT5"
      },
      "outputs": [],
      "source": [
        "from tensorflow import keras\n",
        "import matplotlib.pyplot as plt"
      ]
    },
    {
      "cell_type": "code",
      "execution_count": null,
      "metadata": {
        "id": "Jk_s8pRVX_XS"
      },
      "outputs": [],
      "source": [
        "from sklearn.metrics import accuracy_score, confusion_matrix, classification_report\n",
        "import numpy as np"
      ]
    },
    {
      "cell_type": "code",
      "execution_count": null,
      "metadata": {
        "id": "sDo9e4DtaJsD"
      },
      "outputs": [],
      "source": [
        "import cv2"
      ]
    },
    {
      "cell_type": "code",
      "execution_count": null,
      "metadata": {
        "id": "_6f1hKixaS2O"
      },
      "outputs": [],
      "source": [
        "## Dataset Loading"
      ]
    },
    {
      "cell_type": "code",
      "execution_count": null,
      "metadata": {
        "colab": {
          "base_uri": "https://localhost:8080/"
        },
        "id": "hZwqEJ_QabEs",
        "outputId": "439537d7-b48a-40b5-89d0-2d3f4fb3986d"
      },
      "outputs": [
        {
          "name": "stdout",
          "output_type": "stream",
          "text": [
            "Downloading data from https://www.cs.toronto.edu/~kriz/cifar-10-python.tar.gz\n",
            "170500096/170498071 [==============================] - 3s 0us/step\n",
            "170508288/170498071 [==============================] - 3s 0us/step\n"
          ]
        }
      ],
      "source": [
        "(x_train, y_train), (x_test, y_test) = keras.datasets.cifar10.load_data()"
      ]
    },
    {
      "cell_type": "code",
      "execution_count": null,
      "metadata": {
        "colab": {
          "base_uri": "https://localhost:8080/"
        },
        "id": "oR0h2D49bX-2",
        "outputId": "a564a5d9-60ac-4488-feb5-22d18c048a0b"
      },
      "outputs": [
        {
          "data": {
            "text/plain": [
              "((50000, 32, 32, 3), (10000, 32, 32, 3))"
            ]
          },
          "execution_count": 7,
          "metadata": {},
          "output_type": "execute_result"
        }
      ],
      "source": [
        "## Dataset shape\n",
        "x_train.shape, x_test.shape"
      ]
    },
    {
      "cell_type": "markdown",
      "metadata": {
        "id": "z-0_Yq1J39Gu"
      },
      "source": [
        "# Data Exploration"
      ]
    },
    {
      "cell_type": "code",
      "execution_count": null,
      "metadata": {
        "colab": {
          "base_uri": "https://localhost:8080/"
        },
        "id": "uZOJVUoX4ENl",
        "outputId": "a3c2ee4d-da11-4c2f-b05a-f80c62919b9a"
      },
      "outputs": [
        {
          "data": {
            "text/plain": [
              "array([[6],\n",
              "       [9],\n",
              "       [9],\n",
              "       [4],\n",
              "       [1]], dtype=uint8)"
            ]
          },
          "execution_count": 8,
          "metadata": {},
          "output_type": "execute_result"
        }
      ],
      "source": [
        "y_train[:5]"
      ]
    },
    {
      "cell_type": "code",
      "execution_count": null,
      "metadata": {
        "colab": {
          "base_uri": "https://localhost:8080/"
        },
        "id": "-xQTGNvi4Q7o",
        "outputId": "c8e5432f-0118-4b2d-a00b-0e7b058f3f07"
      },
      "outputs": [
        {
          "data": {
            "text/plain": [
              "array([6, 9, 9, 4, 1], dtype=uint8)"
            ]
          },
          "execution_count": 9,
          "metadata": {},
          "output_type": "execute_result"
        }
      ],
      "source": [
        "## Converting to one dimension\n",
        "y_train=y_train.reshape(-1,)\n",
        "y_train[:5]"
      ]
    },
    {
      "cell_type": "code",
      "execution_count": null,
      "metadata": {
        "id": "lylVBF0q4Vi_"
      },
      "outputs": [],
      "source": [
        "classes=[\"airplane\",\"automobile\",\"bird\",\"cat\",\"deer\",\"dog\",\"frog\",\"horse\",\"ship\",\"truck\"]"
      ]
    },
    {
      "cell_type": "code",
      "execution_count": null,
      "metadata": {
        "colab": {
          "base_uri": "https://localhost:8080/",
          "height": 537
        },
        "id": "SwVUl6L74eUQ",
        "outputId": "60b5b4de-6ebe-442f-b00f-b0bd77609742"
      },
      "outputs": [
        {
          "name": "stdout",
          "output_type": "stream",
          "text": [
            "None\n",
            "None\n",
            "None\n"
          ]
        },
        {
          "data": {
            "image/png": "[encoded data removed]",
            "text/plain": [
              "<Figure size 1080x144 with 1 Axes>"
            ]
          },
          "metadata": {},
          "output_type": "display_data"
        },
        {
          "data": {
            "image/png": "[encoded data removed]",
            "text/plain": [
              "<Figure size 1080x144 with 1 Axes>"
            ]
          },
          "metadata": {},
          "output_type": "display_data"
        },
        {
          "data": {
            "image/png": "[encoded data removed]",
            "text/plain": [
              "<Figure size 1080x144 with 1 Axes>"
            ]
          },
          "metadata": {},
          "output_type": "display_data"
        }
      ],
      "source": [
        "def plot_sample(X,y,index):\n",
        "  plt.figure(figsize=(15,2))\n",
        "  plt.imshow(X[index])\n",
        "  plt.xlabel(classes[y[index]])\n",
        "print(plot_sample(x_train,y_train,0))\n",
        "print(plot_sample(x_train,y_train,1))\n",
        "print(plot_sample(x_train,y_train,4))"
      ]
    },
    {
      "cell_type": "code",
      "execution_count": null,
      "metadata": {
        "colab": {
          "base_uri": "https://localhost:8080/",
          "height": 176
        },
        "id": "TJbXW3G-4fyq",
        "outputId": "7a7e32b4-a395-448c-a167-dc4c3597cd3a"
      },
      "outputs": [
        {
          "data": {
            "text/plain": [
              "<matplotlib.image.AxesImage at 0x7fc452c3b2d0>"
            ]
          },
          "execution_count": 12,
          "metadata": {},
          "output_type": "execute_result"
        },
        {
          "data": {
            "image/png": "[encoded data removed]",
            "text/plain": [
              "<Figure size 1080x144 with 1 Axes>"
            ]
          },
          "metadata": {},
          "output_type": "display_data"
        }
      ],
      "source": [
        "plt.figure(figsize=(15,2))\n",
        "plt.imshow(x_train[1])"
      ]
    },
    {
      "cell_type": "markdown",
      "metadata": {
        "id": "Fc5jfvbC2KtW"
      },
      "source": [
        "# Dataset Pre-Processing"
      ]
    },
    {
      "cell_type": "code",
      "execution_count": null,
      "metadata": {
        "id": "IWyfF3JMcU6s"
      },
      "outputs": [],
      "source": [
        "## Normalization\n",
        "x_train = x_train/255.0\n",
        "x_test = x_test/255.0"
      ]
    },
    {
      "cell_type": "code",
      "execution_count": null,
      "metadata": {
        "id": "wLlxmK2Gdqd4"
      },
      "outputs": [],
      "source": [
        "## Train dataset resize to 2D array\n",
        "nsamples, nx, ny, nrgb = x_train.shape\n",
        "x_train2 = x_train.reshape((nsamples,nx*ny*nrgb))"
      ]
    },
    {
      "cell_type": "code",
      "execution_count": null,
      "metadata": {
        "id": "algmPmkfegdt"
      },
      "outputs": [],
      "source": [
        "## Test dataset resize to 2D array\n",
        "nsamples, nx, ny, nrgb = x_test.shape\n",
        "x_test2 = x_test.reshape((nsamples,nx*ny*nrgb))"
      ]
    },
    {
      "cell_type": "markdown",
      "metadata": {
        "id": "QpcVO7-82pD4"
      },
      "source": [
        "# Implementing a Random Forest Classifier"
      ]
    },
    {
      "cell_type": "code",
      "execution_count": null,
      "metadata": {
        "id": "fP_sPfbNfDSk"
      },
      "outputs": [],
      "source": [
        "## Import from sklearn\n",
        "from sklearn.ensemble import RandomForestClassifier"
      ]
    },
    {
      "cell_type": "code",
      "execution_count": null,
      "metadata": {
        "id": "OX0WCul5fXK1"
      },
      "outputs": [],
      "source": [
        "## Creating instance of the randomforestclassifier\n",
        "rfc=RandomForestClassifier()"
      ]
    },
    {
      "cell_type": "code",
      "execution_count": null,
      "metadata": {
        "colab": {
          "base_uri": "https://localhost:8080/"
        },
        "id": "1xq8rn1Tfm8A",
        "outputId": "3c498ac4-ed71-4444-f1b6-68439fc7a6de"
      },
      "outputs": [
        {
          "data": {
            "text/plain": [
              "RandomForestClassifier()"
            ]
          },
          "execution_count": 18,
          "metadata": {},
          "output_type": "execute_result"
        }
      ],
      "source": [
        "## Train the model\n",
        "rfc.fit(x_train2,y_train)"
      ]
    },
    {
      "cell_type": "code",
      "execution_count": null,
      "metadata": {
        "colab": {
          "base_uri": "https://localhost:8080/"
        },
        "id": "O1ZUeEWZf3cn",
        "outputId": "c2b39258-1384-4fc5-c3c6-2c9620753bc8"
      },
      "outputs": [
        {
          "data": {
            "text/plain": [
              "array([2, 8, 8, ..., 5, 5, 7], dtype=uint8)"
            ]
          },
          "execution_count": 19,
          "metadata": {},
          "output_type": "execute_result"
        }
      ],
      "source": [
        "## Prediction for the test set using the random forest classification model\n",
        "y_pred=rfc.predict(x_test2)\n",
        "y_pred"
      ]
    },
    {
      "cell_type": "code",
      "execution_count": null,
      "metadata": {
        "colab": {
          "base_uri": "https://localhost:8080/"
        },
        "id": "YSyoFFbLhJ-P",
        "outputId": "6c5b0f6f-f991-487a-ac1b-f95c1cd86149"
      },
      "outputs": [
        {
          "name": "stdout",
          "output_type": "stream",
          "text": [
            "              precision    recall  f1-score   support\n",
            "\n",
            "           0       0.55      0.53      0.54      1033\n",
            "           1       0.55      0.52      0.53      1063\n",
            "           2       0.33      0.37      0.35       890\n",
            "           3       0.28      0.34      0.31       837\n",
            "           4       0.39      0.39      0.39       986\n",
            "           5       0.39      0.42      0.41       925\n",
            "           6       0.58      0.48      0.53      1194\n",
            "           7       0.46      0.52      0.49       875\n",
            "           8       0.60      0.57      0.58      1060\n",
            "           9       0.54      0.48      0.51      1137\n",
            "\n",
            "    accuracy                           0.47     10000\n",
            "   macro avg       0.47      0.46      0.46     10000\n",
            "weighted avg       0.48      0.47      0.47     10000\n",
            "\n"
          ]
        }
      ],
      "source": [
        "## Classification report, confusion matrix and accuracy score\n",
        "accuracy_score(y_pred,y_test)\n",
        "print(classification_report(y_pred,y_test))"
      ]
    },
    {
      "cell_type": "code",
      "execution_count": null,
      "metadata": {
        "colab": {
          "base_uri": "https://localhost:8080/"
        },
        "id": "0ufG54Qkhu9Y",
        "outputId": "cc2efa72-11fb-4552-c106-2cbad562e5a6"
      },
      "outputs": [
        {
          "data": {
            "text/plain": [
              "array([[547,  32, 103,  53,  59,  33,  12,  45,  97,  52],\n",
              "       [ 38, 548,  44,  49,  24,  33,  35,  43,  93, 156],\n",
              "       [ 64,  17, 328,  72, 154,  92,  74,  55,  19,  15],\n",
              "       [ 17,  32,  86, 282,  58, 172,  59,  59,  34,  38],\n",
              "       [ 34,  27, 152,  67, 385,  66, 112,  95,  19,  29],\n",
              "       [ 25,  26,  64, 183,  47, 390,  57,  85,  30,  18],\n",
              "       [ 24,  41, 114, 138, 149,  77, 576,  47,   9,  19],\n",
              "       [ 18,  38,  59,  64,  74,  79,  24, 459,  19,  41],\n",
              "       [172,  64,  26,  24,  26,  26,   7,  24, 601,  90],\n",
              "       [ 61, 175,  24,  68,  24,  32,  44,  88,  79, 542]])"
            ]
          },
          "execution_count": 21,
          "metadata": {},
          "output_type": "execute_result"
        }
      ],
      "source": [
        "confusion_matrix(y_pred,y_test)"
      ]
    },
    {
      "cell_type": "markdown",
      "metadata": {
        "id": "kphuR9ih222S"
      },
      "source": [
        "# Implementing a KNN"
      ]
    },
    {
      "cell_type": "code",
      "execution_count": null,
      "metadata": {
        "id": "ikdNJPyjiJ3O"
      },
      "outputs": [],
      "source": [
        "## Import KNeighborsClassifier class\n",
        "from sklearn.neighbors import KNeighborsClassifier"
      ]
    },
    {
      "cell_type": "code",
      "execution_count": null,
      "metadata": {
        "id": "VlanOStyidl-"
      },
      "outputs": [],
      "source": [
        "## Create a knn model\n",
        "knn=KNeighborsClassifier(n_neighbors=7)"
      ]
    },
    {
      "cell_type": "code",
      "execution_count": null,
      "metadata": {
        "colab": {
          "base_uri": "https://localhost:8080/"
        },
        "id": "8XdbLRxqikJ1",
        "outputId": "8ed561ab-52a5-4f60-de63-0c7945e7a8c7"
      },
      "outputs": [
        {
          "data": {
            "text/plain": [
              "KNeighborsClassifier(n_neighbors=7)"
            ]
          },
          "execution_count": 24,
          "metadata": {},
          "output_type": "execute_result"
        }
      ],
      "source": [
        "## Training the model\n",
        "knn.fit(x_train2,y_train)"
      ]
    },
    {
      "cell_type": "code",
      "execution_count": null,
      "metadata": {
        "colab": {
          "base_uri": "https://localhost:8080/"
        },
        "id": "o7xje3fyi_Ea",
        "outputId": "798db07b-843f-4e1d-ce2b-137b87e6fb9d"
      },
      "outputs": [
        {
          "data": {
            "text/plain": [
              "array([2, 8, 8, ..., 5, 6, 4], dtype=uint8)"
            ]
          },
          "execution_count": 25,
          "metadata": {},
          "output_type": "execute_result"
        }
      ],
      "source": [
        "## Predicting the test \n",
        "y_pred_knn=knn.predict(x_test2)\n",
        "y_pred_knn"
      ]
    },
    {
      "cell_type": "code",
      "execution_count": null,
      "metadata": {
        "colab": {
          "base_uri": "https://localhost:8080/"
        },
        "id": "WAMVWsiZjPPh",
        "outputId": "a7151ddd-1f90-4ee1-8639-8565c80e707a"
      },
      "outputs": [
        {
          "name": "stdout",
          "output_type": "stream",
          "text": [
            "              precision    recall  f1-score   support\n",
            "\n",
            "           0       0.52      0.40      0.45      1299\n",
            "           1       0.20      0.70      0.30       280\n",
            "           2       0.44      0.22      0.29      2013\n",
            "           3       0.20      0.28      0.23       707\n",
            "           4       0.52      0.23      0.32      2222\n",
            "           5       0.20      0.40      0.27       504\n",
            "           6       0.27      0.35      0.30       761\n",
            "           7       0.20      0.70      0.31       281\n",
            "           8       0.69      0.39      0.50      1749\n",
            "           9       0.14      0.73      0.23       184\n",
            "\n",
            "    accuracy                           0.34     10000\n",
            "   macro avg       0.34      0.44      0.32     10000\n",
            "weighted avg       0.45      0.34      0.35     10000\n",
            "\n"
          ]
        }
      ],
      "source": [
        "accuracy_score(y_pred_knn,y_test)\n",
        "print(classification_report(y_pred_knn,y_test))"
      ]
    },
    {
      "cell_type": "code",
      "execution_count": null,
      "metadata": {
        "colab": {
          "base_uri": "https://localhost:8080/"
        },
        "id": "ExZwZOUqkPpN",
        "outputId": "f0a31626-fbbd-4120-8662-8093ecb5777b"
      },
      "outputs": [
        {
          "data": {
            "text/plain": [
              "array([[518, 118, 110,  66,  60,  63,  22,  78, 112, 152],\n",
              "       [  7, 195,   2,   5,   0,   2,   1,   8,  10,  50],\n",
              "       [118, 124, 437, 243, 268, 225, 271, 185,  47,  95],\n",
              "       [ 12,  51,  50, 199,  33, 156,  56,  57,  34,  59],\n",
              "       [ 46, 173, 250, 214, 521, 201, 319, 294,  69, 135],\n",
              "       [  5,  32,  24, 102,  14, 204,  32,  60,  12,  19],\n",
              "       [ 30,  55,  65, 108,  44,  80, 265,  48,  14,  52],\n",
              "       [  5,   8,   7,  11,  11,  10,   1, 196,   7,  25],\n",
              "       [255, 223,  53,  51,  48,  53,  32,  68, 688, 278],\n",
              "       [  4,  21,   2,   1,   1,   6,   1,   6,   7, 135]])"
            ]
          },
          "execution_count": 27,
          "metadata": {},
          "output_type": "execute_result"
        }
      ],
      "source": [
        "confusion_matrix(y_pred_knn,y_test)"
      ]
    },
    {
      "cell_type": "markdown",
      "metadata": {
        "id": "s5Hp73iM3Hir"
      },
      "source": [
        "# Implementing a Decision Tree classifier"
      ]
    },
    {
      "cell_type": "code",
      "execution_count": null,
      "metadata": {
        "id": "gQatjbM_kfLE"
      },
      "outputs": [],
      "source": [
        "## Import decisiontreeclassifier class\n",
        "from sklearn.tree import DecisionTreeClassifier"
      ]
    },
    {
      "cell_type": "code",
      "execution_count": null,
      "metadata": {
        "id": "qpHuFKTfkwwk"
      },
      "outputs": [],
      "source": [
        "## Create decisiontreeclassifier model\n",
        "dtc=DecisionTreeClassifier()"
      ]
    },
    {
      "cell_type": "code",
      "execution_count": null,
      "metadata": {
        "colab": {
          "base_uri": "https://localhost:8080/"
        },
        "id": "tjxwWeZhk9iW",
        "outputId": "b549b27e-bfe6-40e0-904e-0c5886d8489b"
      },
      "outputs": [
        {
          "data": {
            "text/plain": [
              "DecisionTreeClassifier()"
            ]
          },
          "execution_count": 30,
          "metadata": {},
          "output_type": "execute_result"
        }
      ],
      "source": [
        "## Train the model\n",
        "dtc.fit(x_train2,y_train)"
      ]
    },
    {
      "cell_type": "code",
      "execution_count": null,
      "metadata": {
        "colab": {
          "base_uri": "https://localhost:8080/"
        },
        "id": "v-NU0S9llG6n",
        "outputId": "58e1a9af-c042-48d0-eea1-bee9c6ef1947"
      },
      "outputs": [
        {
          "data": {
            "text/plain": [
              "array([7, 1, 9, ..., 2, 2, 5], dtype=uint8)"
            ]
          },
          "execution_count": 31,
          "metadata": {},
          "output_type": "execute_result"
        }
      ],
      "source": [
        "## Predict the test using the fitted decision tree model\n",
        "y_pred_dtc=dtc.predict(x_test2)\n",
        "y_pred_dtc"
      ]
    },
    {
      "cell_type": "code",
      "execution_count": null,
      "metadata": {
        "colab": {
          "base_uri": "https://localhost:8080/"
        },
        "id": "B31BHJ6Tmq3p",
        "outputId": "2eda5a6d-09b5-4852-a924-14f56ffbff34"
      },
      "outputs": [
        {
          "name": "stdout",
          "output_type": "stream",
          "text": [
            "              precision    recall  f1-score   support\n",
            "\n",
            "           0       0.35      0.32      0.34      1086\n",
            "           1       0.27      0.28      0.27       938\n",
            "           2       0.23      0.21      0.22      1077\n",
            "           3       0.18      0.18      0.18       963\n",
            "           4       0.23      0.22      0.22      1039\n",
            "           5       0.20      0.21      0.21       954\n",
            "           6       0.28      0.28      0.28      1003\n",
            "           7       0.26      0.28      0.27       949\n",
            "           8       0.37      0.37      0.37      1021\n",
            "           9       0.29      0.30      0.29       970\n",
            "\n",
            "    accuracy                           0.27     10000\n",
            "   macro avg       0.27      0.27      0.27     10000\n",
            "weighted avg       0.27      0.27      0.27     10000\n",
            "\n"
          ]
        }
      ],
      "source": [
        "accuracy_score(y_pred_dtc,y_test)\n",
        "print(classification_report(y_pred_dtc,y_test))"
      ]
    },
    {
      "cell_type": "code",
      "execution_count": null,
      "metadata": {
        "colab": {
          "base_uri": "https://localhost:8080/"
        },
        "id": "QUQb8Mq_oEIZ",
        "outputId": "24f50708-6fad-40fd-c121-1140bf60e651"
      },
      "outputs": [
        {
          "data": {
            "text/plain": [
              "array([[350,  73,  98,  78,  54,  59,  41,  84, 154,  95],\n",
              "       [ 73, 266,  43,  52,  48,  63,  39,  76, 108, 170],\n",
              "       [ 85,  72, 228, 112, 157, 112, 123,  89,  41,  58],\n",
              "       [ 62,  71, 101, 178,  84, 152, 128,  84,  49,  54],\n",
              "       [ 65,  68, 138, 108, 228,  93, 145, 101,  46,  47],\n",
              "       [ 45,  52, 111, 125, 102, 205,  97, 107,  56,  54],\n",
              "       [ 43,  63, 106, 143, 129, 102, 278,  54,  32,  53],\n",
              "       [ 49,  61,  77,  97, 112,  99,  78, 263,  35,  78],\n",
              "       [157, 111,  45,  47,  37,  56,  30,  62, 373, 103],\n",
              "       [ 71, 163,  53,  60,  49,  59,  41,  80, 106, 288]])"
            ]
          },
          "execution_count": 33,
          "metadata": {},
          "output_type": "execute_result"
        }
      ],
      "source": [
        "confusion_matrix(y_pred_dtc,y_test)"
      ]
    },
    {
      "cell_type": "markdown",
      "metadata": {
        "id": "qXCowETU3Pq3"
      },
      "source": [
        "# Implementing a Naive Bayes classifier"
      ]
    },
    {
      "cell_type": "code",
      "execution_count": null,
      "metadata": {
        "id": "gbZGwgaopA2y"
      },
      "outputs": [],
      "source": [
        "## Import naive bayes classifier class\n",
        "from sklearn.naive_bayes import GaussianNB"
      ]
    },
    {
      "cell_type": "code",
      "execution_count": null,
      "metadata": {
        "id": "x-bXHh2jpSHc"
      },
      "outputs": [],
      "source": [
        "## Creating NB model\n",
        "nb=GaussianNB()"
      ]
    },
    {
      "cell_type": "code",
      "execution_count": null,
      "metadata": {
        "colab": {
          "base_uri": "https://localhost:8080/"
        },
        "id": "D1ddvHxbpbeg",
        "outputId": "bd29d62b-f500-43a2-ed7b-25229b498e15"
      },
      "outputs": [
        {
          "data": {
            "text/plain": [
              "GaussianNB()"
            ]
          },
          "execution_count": 36,
          "metadata": {},
          "output_type": "execute_result"
        }
      ],
      "source": [
        "## Train the model\n",
        "nb.fit(x_train2,y_train)"
      ]
    },
    {
      "cell_type": "code",
      "execution_count": null,
      "metadata": {
        "colab": {
          "base_uri": "https://localhost:8080/"
        },
        "id": "ikzlemNapkfF",
        "outputId": "52752ba2-23fd-47a1-ca9a-f29b5318973b"
      },
      "outputs": [
        {
          "data": {
            "text/plain": [
              "array([6, 8, 8, ..., 6, 5, 4], dtype=uint8)"
            ]
          },
          "execution_count": 37,
          "metadata": {},
          "output_type": "execute_result"
        }
      ],
      "source": [
        "## Predict the test set using fitted NB model\n",
        "y_pred_nb=nb.predict(x_test2)\n",
        "y_pred_nb"
      ]
    },
    {
      "cell_type": "code",
      "execution_count": null,
      "metadata": {
        "colab": {
          "base_uri": "https://localhost:8080/"
        },
        "id": "7pC8_wV3p52m",
        "outputId": "54091c10-1346-42b4-d1ea-3656cbc98443"
      },
      "outputs": [
        {
          "name": "stdout",
          "output_type": "stream",
          "text": [
            "              precision    recall  f1-score   support\n",
            "\n",
            "           0       0.49      0.27      0.35      1817\n",
            "           1       0.17      0.41      0.24       405\n",
            "           2       0.08      0.19      0.12       443\n",
            "           3       0.08      0.25      0.12       305\n",
            "           4       0.42      0.24      0.30      1737\n",
            "           5       0.26      0.31      0.29       840\n",
            "           6       0.47      0.25      0.33      1846\n",
            "           7       0.13      0.42      0.20       310\n",
            "           8       0.47      0.39      0.42      1219\n",
            "           9       0.41      0.38      0.39      1078\n",
            "\n",
            "    accuracy                           0.30     10000\n",
            "   macro avg       0.30      0.31      0.28     10000\n",
            "weighted avg       0.39      0.30      0.32     10000\n",
            "\n"
          ]
        }
      ],
      "source": [
        "accuracy_score(y_pred_nb,y_test)\n",
        "print(classification_report(y_pred_nb,y_test))"
      ]
    },
    {
      "cell_type": "code",
      "execution_count": null,
      "metadata": {
        "colab": {
          "base_uri": "https://localhost:8080/"
        },
        "id": "4kzMYUgZp3tg",
        "outputId": "8c65107f-09ab-4fb0-94b6-ba8a2a6a679c"
      },
      "outputs": [
        {
          "data": {
            "text/plain": [
              "array([[494, 141, 225, 163,  86, 156, 106, 134, 168, 144],\n",
              "       [ 20, 166,  24,  36,   8,  17,   2,  24,  41,  67],\n",
              "       [ 39,  24,  83,  54,  57,  55,  60,  36,  18,  17],\n",
              "       [ 10,  31,  15,  76,  26,  51,  18,  41,  17,  20],\n",
              "       [ 84,  66, 292, 151, 417, 167, 228, 228,  56,  48],\n",
              "       [ 34,  72,  48, 129,  38, 264,  46,  94,  83,  32],\n",
              "       [ 50, 192, 209, 262, 265, 159, 467, 102,  39, 101],\n",
              "       [  9,  19,  21,  26,  22,  36,  15, 131,   8,  23],\n",
              "       [200, 121,  54,  34,  50,  57,  19,  72, 471, 141],\n",
              "       [ 60, 168,  29,  69,  31,  38,  39, 138,  99, 407]])"
            ]
          },
          "execution_count": 39,
          "metadata": {},
          "output_type": "execute_result"
        }
      ],
      "source": [
        "confusion_matrix(y_pred_nb,y_test)"
      ]
    },
    {
      "cell_type": "markdown",
      "metadata": {
        "id": "zyPQv5O-45RK"
      },
      "source": [
        "# Implementing a ANN"
      ]
    },
    {
      "cell_type": "code",
      "execution_count": null,
      "metadata": {
        "id": "Ih4j211aYQUR"
      },
      "outputs": [],
      "source": [
        "import tensorflow as tf\n",
        "from tensorflow.keras import datasets, layers, models"
      ]
    },
    {
      "cell_type": "code",
      "execution_count": null,
      "metadata": {
        "colab": {
          "background_save": true,
          "base_uri": "https://localhost:8080/"
        },
        "id": "7eUkXbYfZOqo",
        "outputId": "83aff018-dbd4-44b7-d839-7a8a07bc70d8"
      },
      "outputs": [
        {
          "name": "stdout",
          "output_type": "stream",
          "text": [
            "Epoch 1/5\n",
            "1563/1563 [==============================] - 102s 65ms/step - loss: 1.8130 - accuracy: 0.3565\n",
            "Epoch 2/5\n",
            "1563/1563 [==============================] - 102s 65ms/step - loss: 1.6246 - accuracy: 0.4270\n",
            "Epoch 3/5\n",
            "1563/1563 [==============================] - 102s 65ms/step - loss: 1.5416 - accuracy: 0.4544\n",
            "Epoch 4/5\n",
            "1563/1563 [==============================] - 100s 64ms/step - loss: 1.4816 - accuracy: 0.4772\n",
            "Epoch 5/5\n",
            "1563/1563 [==============================] - 99s 64ms/step - loss: 1.4321 - accuracy: 0.4966\n"
          ]
        },
        {
          "data": {
            "text/plain": [
              "<keras.callbacks.History at 0x7fc44bbf1cd0>"
            ]
          },
          "execution_count": 41,
          "metadata": {},
          "output_type": "execute_result"
        }
      ],
      "source": [
        "## Artificial Neural Network\n",
        "ann=models.Sequential([\n",
        "                       layers.Flatten(input_shape=(32,32,3)),\n",
        "                       layers.Dense(3000,activation='relu'),\n",
        "                       layers.Dense(1000,activation='relu'),\n",
        "                       layers.Dense(10,activation='sigmoid')\n",
        "])\n",
        "ann.compile(optimizer='SGD',\n",
        "            loss='sparse_categorical_crossentropy',\n",
        "            metrics=['accuracy'])\n",
        "ann.fit(x_train,y_train,epochs=5)"
      ]
    },
    {
      "cell_type": "code",
      "execution_count": null,
      "metadata": {
        "colab": {
          "background_save": true
        },
        "id": "aYOoGvyUekTX",
        "outputId": "5b4cb7b1-956c-476b-9ac9-e9d40b1fac72"
      },
      "outputs": [
        {
          "name": "stdout",
          "output_type": "stream",
          "text": [
            "313/313 [==============================] - 8s 24ms/step - loss: 1.4687 - accuracy: 0.4872\n"
          ]
        },
        {
          "data": {
            "text/plain": [
              "[1.4687222242355347, 0.487199991941452]"
            ]
          },
          "execution_count": 42,
          "metadata": {},
          "output_type": "execute_result"
        }
      ],
      "source": [
        "ann.evaluate(x_test,y_test)"
      ]
    },
    {
      "cell_type": "code",
      "execution_count": null,
      "metadata": {
        "colab": {
          "background_save": true
        },
        "id": "eSI2A0bWdydi"
      },
      "outputs": [],
      "source": [
        "## Predict the test set using fitted NB model\n",
        "y_pred_ann=ann.predict(x_test)\n",
        "y_pred_ann_classes=[np.argmax(element) for element in y_pred_ann]"
      ]
    },
    {
      "cell_type": "code",
      "execution_count": null,
      "metadata": {
        "colab": {
          "background_save": true
        },
        "id": "bBf0Bfu8frim",
        "outputId": "fcd52f34-a787-4180-81e6-e79f6ae9a484"
      },
      "outputs": [
        {
          "name": "stdout",
          "output_type": "stream",
          "text": [
            "0.4872\n",
            "              precision    recall  f1-score   support\n",
            "\n",
            "           0       0.63      0.51      0.56      1000\n",
            "           1       0.53      0.71      0.61      1000\n",
            "           2       0.49      0.13      0.21      1000\n",
            "           3       0.32      0.47      0.38      1000\n",
            "           4       0.50      0.34      0.41      1000\n",
            "           5       0.40      0.38      0.39      1000\n",
            "           6       0.43      0.70      0.53      1000\n",
            "           7       0.49      0.60      0.54      1000\n",
            "           8       0.69      0.54      0.61      1000\n",
            "           9       0.59      0.49      0.53      1000\n",
            "\n",
            "    accuracy                           0.49     10000\n",
            "   macro avg       0.51      0.49      0.48     10000\n",
            "weighted avg       0.51      0.49      0.48     10000\n",
            "\n"
          ]
        }
      ],
      "source": [
        "print(accuracy_score(y_pred_ann_classes,y_test))\n",
        "print(classification_report(y_test,y_pred_ann_classes))"
      ]
    },
    {
      "cell_type": "code",
      "execution_count": null,
      "metadata": {
        "colab": {
          "background_save": true
        },
        "id": "p7DvSV865TPB",
        "outputId": "34afb0de-8798-4a89-8180-76ac0391c9f1"
      },
      "outputs": [
        {
          "data": {
            "text/plain": [
              "array([[507,  16,  65,  13,  36,  13,   3,  19, 104,  27],\n",
              "       [ 71, 712,  35,  24,  23,  20,  20,  33, 129, 270],\n",
              "       [ 24,   2, 132,  16,  36,  19,  11,  18,  11,   2],\n",
              "       [ 78,  45, 182, 470, 112, 260, 111, 103,  59,  59],\n",
              "       [ 22,   8, 130,  26, 345,  38,  60,  41,  17,   7],\n",
              "       [ 30,  21, 107, 174,  69, 376,  43,  73,  33,  23],\n",
              "       [ 47,  23, 211, 157, 223, 143, 697,  60,  21,  40],\n",
              "       [ 67,  40, 105,  72, 131,  95,  36, 604,  30,  50],\n",
              "       [104,  32,  17,  13,  15,  15,   7,   4, 537,  30],\n",
              "       [ 50, 101,  16,  35,  10,  21,  12,  45,  59, 492]])"
            ]
          },
          "execution_count": 45,
          "metadata": {},
          "output_type": "execute_result"
        }
      ],
      "source": [
        "confusion_matrix(y_pred_ann_classes,y_test)"
      ]
    },
    {
      "cell_type": "markdown",
      "metadata": {
        "id": "D0_6LaSD5dPk"
      },
      "source": [
        "# Implementing a CNN"
      ]
    },
    {
      "cell_type": "code",
      "execution_count": null,
      "metadata": {
        "id": "FD1IDmYelKN5"
      },
      "outputs": [],
      "source": [
        "# baseline model with dropout and data augmentation on the cifar10 dataset\n",
        "import sys\n",
        "from matplotlib import pyplot\n",
        "from keras.datasets import cifar10\n",
        "from tensorflow.keras.utils import to_categorical\n",
        "from keras.models import Sequential\n",
        "from keras.layers import Conv2D\n",
        "from keras.layers import MaxPooling2D\n",
        "from keras.layers import Dense\n",
        "from keras.layers import Flatten\n",
        "from tensorflow.keras.optimizers import SGD\n",
        "from keras.preprocessing.image import ImageDataGenerator\n",
        "from keras.layers import Dropout\n",
        "from keras.layers import BatchNormalization"
      ]
    },
    {
      "cell_type": "code",
      "execution_count": null,
      "metadata": {
        "id": "E0PYl-hDlOYx"
      },
      "outputs": [],
      "source": [
        "# load dataset\n",
        "(trainX, trainY), (testX, testY) = cifar10.load_data()\n",
        "# one hot encode target values\n",
        "trainY = to_categorical(trainY)\n",
        "testY = to_categorical(testY)"
      ]
    },
    {
      "cell_type": "code",
      "execution_count": null,
      "metadata": {
        "id": "7L9xMZtxlvc-"
      },
      "outputs": [],
      "source": [
        "# scale pixels\n",
        "# convert from integers to floats\n",
        "trainX = trainX.astype('float32')\n",
        "testX = testX.astype('float32')\n",
        "# normalize to range 0-1\n",
        "trainX = trainX/255.0\n",
        "testX = testX/255.0"
      ]
    },
    {
      "cell_type": "code",
      "source": [
        "num_classes=10"
      ],
      "metadata": {
        "id": "8y06-5Vy2qSW"
      },
      "execution_count": null,
      "outputs": []
    },
    {
      "cell_type": "code",
      "source": [
        "# define cnn model\n",
        "cnn = Sequential()\n",
        "cnn.add(Conv2D(48, kernel_size = 3, activation=\"relu\", padding=\"same\", input_shape=(32, 32, 3)))\n",
        "cnn.add(BatchNormalization())\n",
        "cnn.add(Conv2D(48, kernel_size = 3, activation=\"relu\", padding=\"same\"))\n",
        "cnn.add(BatchNormalization())\n",
        "cnn.add(Conv2D(48, kernel_size = 5, activation=\"relu\", padding=\"same\", strides=2))\n",
        "cnn.add(BatchNormalization())\n",
        "cnn.add(Dropout(0.2))\n",
        "\n",
        "cnn.add(Conv2D(64, kernel_size = 3, activation=\"relu\", padding=\"same\"))\n",
        "cnn.add(BatchNormalization())\n",
        "cnn.add(Conv2D(64, kernel_size = 3, activation=\"relu\", padding=\"same\"))\n",
        "cnn.add(BatchNormalization())\n",
        "cnn.add(Conv2D(64, kernel_size = 5, activation=\"relu\", padding=\"same\", strides=2))\n",
        "cnn.add(BatchNormalization())\n",
        "cnn.add(Dropout(0.3))\n",
        "\n",
        "cnn.add(Conv2D(128, kernel_size = 3, activation=\"relu\", padding=\"same\"))\n",
        "cnn.add(BatchNormalization())\n",
        "cnn.add(Conv2D(128, kernel_size = 3, activation=\"relu\", padding=\"same\"))\n",
        "cnn.add(BatchNormalization())\n",
        "cnn.add(Conv2D(128, kernel_size = 5, activation=\"relu\", padding=\"same\", strides=2))\n",
        "cnn.add(Dropout(0.4))\n",
        "\n",
        "cnn.add(Conv2D(256, kernel_size = 4, activation=\"relu\", padding=\"same\"))\n",
        "cnn.add(Flatten())\n",
        "cnn.add(Dropout(0.5))\n",
        "\n",
        "cnn.add(Dense(num_classes, activation=\"softmax\"))\n",
        "# compile model\n",
        "opt = SGD(lr=0.001, momentum=0.9)\n",
        "cnn.compile(optimizer=opt, loss='categorical_crossentropy', metrics=['accuracy'])"
      ],
      "metadata": {
        "colab": {
          "base_uri": "https://localhost:8080/"
        },
        "id": "gHF7NXqP2iLk",
        "outputId": "8185b1b1-5b48-461d-b60f-f7b94941d922"
      },
      "execution_count": null,
      "outputs": [
        {
          "output_type": "stream",
          "name": "stderr",
          "text": [
            "/usr/local/lib/python3.7/dist-packages/keras/optimizer_v2/gradient_descent.py:102: UserWarning: The `lr` argument is deprecated, use `learning_rate` instead.\n",
            "  super(SGD, self).__init__(name, **kwargs)\n"
          ]
        }
      ]
    },
    {
      "cell_type": "code",
      "execution_count": null,
      "metadata": {
        "id": "IOspsqXBmoe9"
      },
      "outputs": [],
      "source": [
        "# run the test harness for evaluating a model\n",
        "# create data generator\n",
        "datagen = ImageDataGenerator(width_shift_range=0.1, height_shift_range=0.1, horizontal_flip=True)\n",
        "# prepare iterator\n",
        "it_train = datagen.flow(trainX, trainY, batch_size=64)\n",
        "# fit model\n",
        "steps = int(trainX.shape[0]/64)"
      ]
    },
    {
      "cell_type": "code",
      "execution_count": null,
      "metadata": {
        "colab": {
          "base_uri": "https://localhost:8080/"
        },
        "id": "ZU_zhpA2ZJaW",
        "outputId": "b6d92881-af6a-48d4-d0a2-a918a08a5084"
      },
      "outputs": [
        {
          "output_type": "stream",
          "name": "stdout",
          "text": [
            "Model: \"sequential_10\"\n",
            "_________________________________________________________________\n",
            " Layer (type)                Output Shape              Param #   \n",
            "=================================================================\n",
            " conv2d_11 (Conv2D)          (None, 32, 32, 48)        1344      \n",
            "                                                                 \n",
            " batch_normalization_5 (Batc  (None, 32, 32, 48)       192       \n",
            " hNormalization)                                                 \n",
            "                                                                 \n",
            " conv2d_12 (Conv2D)          (None, 32, 32, 48)        20784     \n",
            "                                                                 \n",
            " batch_normalization_6 (Batc  (None, 32, 32, 48)       192       \n",
            " hNormalization)                                                 \n",
            "                                                                 \n",
            " conv2d_13 (Conv2D)          (None, 16, 16, 48)        57648     \n",
            "                                                                 \n",
            " batch_normalization_7 (Batc  (None, 16, 16, 48)       192       \n",
            " hNormalization)                                                 \n",
            "                                                                 \n",
            " dropout_8 (Dropout)         (None, 16, 16, 48)        0         \n",
            "                                                                 \n",
            " conv2d_14 (Conv2D)          (None, 16, 16, 64)        27712     \n",
            "                                                                 \n",
            " batch_normalization_8 (Batc  (None, 16, 16, 64)       256       \n",
            " hNormalization)                                                 \n",
            "                                                                 \n",
            " conv2d_15 (Conv2D)          (None, 16, 16, 64)        36928     \n",
            "                                                                 \n",
            " batch_normalization_9 (Batc  (None, 16, 16, 64)       256       \n",
            " hNormalization)                                                 \n",
            "                                                                 \n",
            " conv2d_16 (Conv2D)          (None, 8, 8, 64)          102464    \n",
            "                                                                 \n",
            " batch_normalization_10 (Bat  (None, 8, 8, 64)         256       \n",
            " chNormalization)                                                \n",
            "                                                                 \n",
            " dropout_9 (Dropout)         (None, 8, 8, 64)          0         \n",
            "                                                                 \n",
            " conv2d_17 (Conv2D)          (None, 8, 8, 128)         73856     \n",
            "                                                                 \n",
            " batch_normalization_11 (Bat  (None, 8, 8, 128)        512       \n",
            " chNormalization)                                                \n",
            "                                                                 \n",
            " conv2d_18 (Conv2D)          (None, 8, 8, 128)         147584    \n",
            "                                                                 \n",
            " batch_normalization_12 (Bat  (None, 8, 8, 128)        512       \n",
            " chNormalization)                                                \n",
            "                                                                 \n",
            " conv2d_19 (Conv2D)          (None, 4, 4, 128)         409728    \n",
            "                                                                 \n",
            " dropout_10 (Dropout)        (None, 4, 4, 128)         0         \n",
            "                                                                 \n",
            " conv2d_20 (Conv2D)          (None, 4, 4, 256)         524544    \n",
            "                                                                 \n",
            " flatten_2 (Flatten)         (None, 4096)              0         \n",
            "                                                                 \n",
            " dropout_11 (Dropout)        (None, 4096)              0         \n",
            "                                                                 \n",
            " dense_4 (Dense)             (None, 10)                40970     \n",
            "                                                                 \n",
            "=================================================================\n",
            "Total params: 1,445,930\n",
            "Trainable params: 1,444,746\n",
            "Non-trainable params: 1,184\n",
            "_________________________________________________________________\n"
          ]
        }
      ],
      "source": [
        "cnn.summary()"
      ]
    },
    {
      "cell_type": "code",
      "execution_count": null,
      "metadata": {
        "colab": {
          "base_uri": "https://localhost:8080/"
        },
        "id": "VErNA0axrm3L",
        "outputId": "63410458-2ce8-4114-a8db-1e13e377d037"
      },
      "outputs": [
        {
          "output_type": "stream",
          "name": "stdout",
          "text": [
            "Epoch 1/20\n",
            "781/781 [==============================] - 957s 1s/step - loss: 1.8145 - accuracy: 0.3265 - val_loss: 1.4843 - val_accuracy: 0.4554\n",
            "Epoch 2/20\n",
            "781/781 [==============================] - 952s 1s/step - loss: 1.4837 - accuracy: 0.4519 - val_loss: 1.4928 - val_accuracy: 0.4636\n",
            "Epoch 3/20\n",
            "781/781 [==============================] - 949s 1s/step - loss: 1.3333 - accuracy: 0.5139 - val_loss: 1.1380 - val_accuracy: 0.5884\n",
            "Epoch 4/20\n",
            "781/781 [==============================] - 963s 1s/step - loss: 1.2123 - accuracy: 0.5615 - val_loss: 1.2019 - val_accuracy: 0.5697\n",
            "Epoch 5/20\n",
            "781/781 [==============================] - 964s 1s/step - loss: 1.1094 - accuracy: 0.6007 - val_loss: 1.1698 - val_accuracy: 0.5908\n",
            "Epoch 6/20\n",
            "781/781 [==============================] - 966s 1s/step - loss: 1.0365 - accuracy: 0.6291 - val_loss: 1.0301 - val_accuracy: 0.6317\n",
            "Epoch 7/20\n",
            "781/781 [==============================] - 966s 1s/step - loss: 0.9721 - accuracy: 0.6543 - val_loss: 0.9943 - val_accuracy: 0.6449\n",
            "Epoch 8/20\n",
            "781/781 [==============================] - 968s 1s/step - loss: 0.9241 - accuracy: 0.6697 - val_loss: 0.9252 - val_accuracy: 0.6712\n",
            "Epoch 9/20\n",
            "781/781 [==============================] - 973s 1s/step - loss: 0.8717 - accuracy: 0.6886 - val_loss: 0.9547 - val_accuracy: 0.6703\n",
            "Epoch 10/20\n",
            "781/781 [==============================] - 972s 1s/step - loss: 0.8351 - accuracy: 0.7033 - val_loss: 0.9246 - val_accuracy: 0.6787\n",
            "Epoch 11/20\n",
            "781/781 [==============================] - 966s 1s/step - loss: 0.8021 - accuracy: 0.7140 - val_loss: 0.7997 - val_accuracy: 0.7209\n",
            "Epoch 12/20\n",
            "781/781 [==============================] - 968s 1s/step - loss: 0.7677 - accuracy: 0.7279 - val_loss: 0.7459 - val_accuracy: 0.7461\n",
            "Epoch 13/20\n",
            "781/781 [==============================] - 966s 1s/step - loss: 0.7454 - accuracy: 0.7352 - val_loss: 0.6721 - val_accuracy: 0.7656\n",
            "Epoch 14/20\n",
            "781/781 [==============================] - 965s 1s/step - loss: 0.7229 - accuracy: 0.7446 - val_loss: 0.7295 - val_accuracy: 0.7432\n",
            "Epoch 15/20\n",
            "781/781 [==============================] - 972s 1s/step - loss: 0.7017 - accuracy: 0.7523 - val_loss: 0.7772 - val_accuracy: 0.7331\n",
            "Epoch 16/20\n",
            "781/781 [==============================] - 985s 1s/step - loss: 0.6804 - accuracy: 0.7619 - val_loss: 0.6396 - val_accuracy: 0.7776\n",
            "Epoch 17/20\n",
            "781/781 [==============================] - 986s 1s/step - loss: 0.6635 - accuracy: 0.7661 - val_loss: 0.6440 - val_accuracy: 0.7777\n",
            "Epoch 18/20\n",
            "781/781 [==============================] - 983s 1s/step - loss: 0.6410 - accuracy: 0.7756 - val_loss: 0.6785 - val_accuracy: 0.7687\n",
            "Epoch 19/20\n",
            "781/781 [==============================] - 977s 1s/step - loss: 0.6276 - accuracy: 0.7796 - val_loss: 0.6996 - val_accuracy: 0.7609\n",
            "Epoch 20/20\n",
            "781/781 [==============================] - 963s 1s/step - loss: 0.6101 - accuracy: 0.7859 - val_loss: 0.6915 - val_accuracy: 0.7686\n"
          ]
        },
        {
          "output_type": "execute_result",
          "data": {
            "text/plain": [
              "<keras.callbacks.History at 0x7f6f79b15450>"
            ]
          },
          "metadata": {},
          "execution_count": 34
        }
      ],
      "source": [
        "history = cnn.fit(it_train, steps_per_epoch=steps, epochs=20, validation_data=(testX, testY), verbose=1)\n",
        "history"
      ]
    },
    {
      "cell_type": "code",
      "execution_count": null,
      "metadata": {
        "id": "eiQlLwebBnff",
        "colab": {
          "base_uri": "https://localhost:8080/"
        },
        "outputId": "253cf2e4-1e81-4b98-d186-fcf48cd6d1e5"
      },
      "outputs": [
        {
          "output_type": "stream",
          "name": "stdout",
          "text": [
            "313/313 [==============================] - 48s 152ms/step - loss: 0.6915 - accuracy: 0.7686\n",
            "> 76.860\n"
          ]
        }
      ],
      "source": [
        "# evaluate model\n",
        "_, acc = cnn.evaluate(testX, testY, verbose=1)\n",
        "print('> %.3f'%(acc*100.0))\n",
        "cnn.save('model.h5')"
      ]
    },
    {
      "cell_type": "code",
      "execution_count": null,
      "metadata": {
        "id": "oWmBzIVpmRqs"
      },
      "outputs": [],
      "source": [
        "# plot diagnostic learning curves\n",
        "# plot loss\n",
        "pyplot.subplot(211)\n",
        "pyplot.title('Cross Entropy Loss')\n",
        "pyplot.plot(history.history['loss'], color='blue', label='train')\n",
        "pyplot.plot(history.history['val_loss'], color='orange', label='test')\n",
        "# plot accuracy\n",
        "pyplot.subplot(212)\n",
        "pyplot.title('Classification Accuracy')\n",
        "pyplot.plot(history.history['accuracy'], color='blue', label='train')\n",
        "pyplot.plot(history.history['val_accuracy'], color='orange', label='test')\n",
        "# save plot to file\n",
        "filename = sys.argv[0].split('/')[-1]\n",
        "pyplot.savefig(filename + '_plot.png')\n",
        "pyplot.close()"
      ]
    },
    {
      "cell_type": "code",
      "execution_count": null,
      "metadata": {
        "id": "SqcoimbIu3Kz",
        "colab": {
          "base_uri": "https://localhost:8080/"
        },
        "outputId": "4a8ef7f5-3506-4971-a859-b41a3fe4ccb5"
      },
      "outputs": [
        {
          "output_type": "stream",
          "name": "stdout",
          "text": [
            "[2.7144713e-05 3.1272989e-06 5.3823706e-02 9.7827637e-04 4.1804227e-04\n",
            " 1.5023201e-04 9.4457650e-01 8.2670003e-06 1.9883591e-06 1.2743964e-05]\n"
          ]
        }
      ],
      "source": [
        "# make a prediction for a new image.\n",
        "from keras.preprocessing.image import load_img\n",
        "from keras.preprocessing.image import img_to_array\n",
        "from keras.models import load_model\n",
        " \n",
        "# load and prepare the image\n",
        "def load_image(filename):\n",
        "\t# load the image\n",
        "\timg = load_img(filename, target_size=(32, 32))\n",
        "\t# convert to array\n",
        "\timg = img_to_array(img)\n",
        "\t# reshape into a single sample with 3 channels\n",
        "\timg = img.reshape(1, 32, 32, 3)\n",
        "\t# prepare pixel data\n",
        "\timg = img.astype('float32')\n",
        "\timg = img / 255.0\n",
        "\treturn img\n",
        " \n",
        "# load an image and predict the class\n",
        "def run_example():\n",
        "\t# load the image\n",
        "\timg = load_image(\"/content/pexels-roshan-kamath-1661179.jpg\")\n",
        "\t# load model\n",
        "\tmodel = load_model('model.h5')\n",
        "\t# predict the class\n",
        "\tresult = model.predict(img)\n",
        "  # classes=[\"airplane\",\"automobile\",\"bird\",\"cat\",\"deer\",\"dog\",\"frog\",\"horse\",\"ship\",\"truck\"]\n",
        "\tprint(result[0])\n",
        " \n",
        "# entry point, run the example\n",
        "run_example()"
      ]
    },
    {
      "cell_type": "markdown",
      "metadata": {
        "id": "h8ntafWX59r6"
      },
      "source": [
        "# Results"
      ]
    },
    {
      "cell_type": "code",
      "execution_count": null,
      "metadata": {
        "id": "1mmlwIKb6C52",
        "colab": {
          "base_uri": "https://localhost:8080/",
          "height": 312
        },
        "outputId": "d71b8e8d-5c5d-45d0-c63b-689531491750"
      },
      "outputs": [
        {
          "output_type": "execute_result",
          "data": {
            "text/plain": [
              "[]"
            ]
          },
          "metadata": {},
          "execution_count": 23
        },
        {
          "output_type": "display_data",
          "data": {
            "text/plain": [
              "<Figure size 432x288 with 1 Axes>"
            ],
            "image/png": "[encoded data removed]"
          },
          "metadata": {
            "needs_background": "light"
          }
        }
      ],
      "source": [
        "## Comparison between different models\n",
        "x=['NB','KNN','Decision Tree','ANN','Random Forest','CNN']\n",
        "y=[27,30,34,47,47,77]\n",
        "plt.title('Performance Comparison')\n",
        "plt.xlabel('Algorithm')\n",
        "plt.ylabel('Accuracy')\n",
        "plt.bar(x,y)\n",
        "plt.plot()"
      ]
    },
    {
      "cell_type": "markdown",
      "metadata": {
        "id": "Slx77Ar-zd2_"
      },
      "source": [
        "# Conclusion"
      ]
    },
    {
      "cell_type": "code",
      "execution_count": null,
      "metadata": {
        "id": "61S2uELPzgSw"
      },
      "outputs": [],
      "source": [
        "\"\"\" We implemented four popular ML methods, including Random Forest, KNN, Decision Tree, Naive Bayes classifier and ANN\n",
        "to discuss how to apply picture classification in machine learning. Deep learning(CNN) is preferred for image classification jobs \n",
        "due to the low accuracy of traditional methods. \"\"\""
      ]
    },
    {
      "cell_type": "code",
      "execution_count": null,
      "metadata": {
        "id": "kxxeTfxF876G"
      },
      "outputs": [],
      "source": [
        ""
      ]
    }
  ],
  "metadata": {
    "colab": {
      "collapsed_sections": [],
      "name": "Object_Classification.ipynb",
      "provenance": [],
      "toc_visible": true
    },
    "kernelspec": {
      "display_name": "Python 3",
      "name": "python3"
    },
    "language_info": {
      "name": "python"
    }
  },
  "nbformat": 4,
  "nbformat_minor": 0
}